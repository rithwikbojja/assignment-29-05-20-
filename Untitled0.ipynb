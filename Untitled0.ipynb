{
  "nbformat": 4,
  "nbformat_minor": 0,
  "metadata": {
    "colab": {
      "name": "Untitled0.ipynb",
      "provenance": []
    },
    "kernelspec": {
      "name": "python3",
      "display_name": "Python 3"
    }
  },
  "cells": [
    {
      "cell_type": "code",
      "metadata": {
        "id": "x7kjwoj-JI1x",
        "colab_type": "code",
        "colab": {
          "base_uri": "https://localhost:8080/",
          "height": 51
        },
        "outputId": "d5b8a9f6-df6e-404c-f23d-dca6e5cb51ea"
      },
      "source": [
        "\n",
        "#Create a function to find Factorial of a number using Recursion\n",
        "def factorial(x):\n",
        "    if x==1:\n",
        "        return 1\n",
        "    else:\n",
        "        return x*factorial(x-1)\n",
        "\n",
        "n=int(input(''))\n",
        "f=factorial(n)\n",
        "print (\"factorial  is \",f)"
      ],
      "execution_count": 1,
      "outputs": [
        {
          "output_type": "stream",
          "text": [
            "5\n",
            "factorial  is  120\n"
          ],
          "name": "stdout"
        }
      ]
    },
    {
      "cell_type": "code",
      "metadata": {
        "id": "JsLQrx4yJKP-",
        "colab_type": "code",
        "colab": {
          "base_uri": "https://localhost:8080/",
          "height": 68
        },
        "outputId": "ac6280e2-917e-417c-cd6b-d80c7b981a6b"
      },
      "source": [
        "#Create a function and display ‘n’ Fibonacci numbers using Recursion\n",
        "def fib(n):  \n",
        "   if n <= 1:  \n",
        "       return n  \n",
        "   else:  \n",
        "       return(fib(n-1) + fib(n-2))  \n",
        "k= int(input(\"\"))  \n",
        "print(\"Fibonacci sequence:\")  \n",
        "for i in range (k):  \n",
        "       print(fib(i),end=\" \")"
      ],
      "execution_count": 2,
      "outputs": [
        {
          "output_type": "stream",
          "text": [
            "5\n",
            "Fibonacci sequence:\n",
            "0 1 1 2 3 "
          ],
          "name": "stdout"
        }
      ]
    },
    {
      "cell_type": "code",
      "metadata": {
        "id": "VPgV98BijbLJ",
        "colab_type": "code",
        "colab": {
          "base_uri": "https://localhost:8080/",
          "height": 102
        },
        "outputId": "3b26b9fe-9708-42aa-aaa6-9a8e381f3c18"
      },
      "source": [
        "#Print sum of list of elements without using sum() function\n",
        "num= []\n",
        "total = 0\n",
        "j = 0\n",
        "n = int(input(\"no ofelements \"))\n",
        "for i in range(1, n + 1):\n",
        "    value = int(input(\"enter values \" ))\n",
        "    num.append(value)\n",
        "\n",
        "while(j < n):\n",
        "    total = total + num[j]\n",
        "    j = j + 1\n",
        "print(\"sum of all elements is : \", total)"
      ],
      "execution_count": 3,
      "outputs": [
        {
          "output_type": "stream",
          "text": [
            "no ofelements 3\n",
            "enter values 2\n",
            "enter values 3\n",
            "enter values 4\n",
            "sum of all elements is :  9\n"
          ],
          "name": "stdout"
        }
      ]
    },
    {
      "cell_type": "code",
      "metadata": {
        "id": "_HjUUzNwJKYF",
        "colab_type": "code",
        "colab": {
          "base_uri": "https://localhost:8080/",
          "height": 136
        },
        "outputId": "5b9518e1-3343-4da3-8ae4-1f3f2e3da409"
      },
      "source": [
        "\n",
        "#print only even numbers from the list\n",
        "num = []\n",
        "n = int(input(\"total number of elements : \"))\n",
        "for i in range(1, n + 1):\n",
        "    value = int(input(\"values are: \" ))\n",
        "    num.append(value)\n",
        "print(\"\\nEven Numbers are\")\n",
        "for j in range(n):\n",
        "    if(num[j] % 2 == 0):\n",
        "        print(num[j], end = '   ')"
      ],
      "execution_count": 4,
      "outputs": [
        {
          "output_type": "stream",
          "text": [
            "total number of elements : 3\n",
            "values are: 1\n",
            "values are: 2\n",
            "values are: 3\n",
            "\n",
            "Even Numbers are\n",
            "2   "
          ],
          "name": "stdout"
        }
      ]
    },
    {
      "cell_type": "code",
      "metadata": {
        "id": "aGzesDXtj4lb",
        "colab_type": "code",
        "colab": {
          "base_uri": "https://localhost:8080/",
          "height": 51
        },
        "outputId": "301d0069-9e09-417b-dd27-2c92a0498ec3"
      },
      "source": [
        "#Write a Python program to get the smallest number from a list and display index of smallest element of the list\n",
        "\n",
        "list=[2,3,1,4,5]\n",
        "print(list.index(min(list)))\n",
        "print(min(list))"
      ],
      "execution_count": 5,
      "outputs": [
        {
          "output_type": "stream",
          "text": [
            "2\n",
            "1\n"
          ],
          "name": "stdout"
        }
      ]
    },
    {
      "cell_type": "code",
      "metadata": {
        "id": "a9WcbqbDj4ox",
        "colab_type": "code",
        "colab": {
          "base_uri": "https://localhost:8080/",
          "height": 51
        },
        "outputId": "f50d910a-a0f7-474d-d3b4-2b0bc06feb5a"
      },
      "source": [
        "#Write a Python function that checks whether a passed string is palindrome or not.\n",
        "def pal(s):\n",
        "    if len(s) < 1:\n",
        "        return True\n",
        "    else:\n",
        "        if s[0] == s[-1]:\n",
        "            return pal(s[1:-1])\n",
        "        else:\n",
        "            return False\n",
        "a=str(input(\"Enter string: \"))\n",
        "if(pal(a)==True):\n",
        "    print(\"it is palindrome\")\n",
        "else:\n",
        "    print(\"not a palindrome\")"
      ],
      "execution_count": 9,
      "outputs": [
        {
          "output_type": "stream",
          "text": [
            "Enter string: kit\n",
            "not a palindrome\n"
          ],
          "name": "stdout"
        }
      ]
    },
    {
      "cell_type": "code",
      "metadata": {
        "id": "u1xrRtQ1JKbi",
        "colab_type": "code",
        "colab": {
          "base_uri": "https://localhost:8080/",
          "height": 153
        },
        "outputId": "476d2df3-b74a-440d-fb80-2bab4f255c22"
      },
      "source": [
        "\n",
        "#Write a Python program to count the number of even and odd numbers from a series of numbers. \n",
        "\n",
        "num=[]\n",
        "ecount = 0\n",
        "ocount = 0\n",
        "n = int(input(\"total number of elements \"))\n",
        "for i in range(1, n+ 1):\n",
        "    value = int(input(\"values are \"))\n",
        "    num.append(value)\n",
        "for j in range(n):\n",
        "    if(num[j] % 2 == 0):\n",
        "        ecount = ecount + 1\n",
        "    else:\n",
        "        ocount = ocount + 1\n",
        "\n",
        "print(\"total odd numbers =  \", ocount)\n",
        "print(\"total even numbers = \", ecount)"
      ],
      "execution_count": 11,
      "outputs": [
        {
          "output_type": "stream",
          "text": [
            "total number of elements 5\n",
            "values are 1\n",
            "values are 2\n",
            "values are 3\n",
            "values are 4\n",
            "values are 5\n",
            "total odd numbers =   3\n",
            "total even numbers =  2\n"
          ],
          "name": "stdout"
        }
      ]
    },
    {
      "cell_type": "code",
      "metadata": {
        "id": "XOmdPDU0JKgI",
        "colab_type": "code",
        "colab": {
          "base_uri": "https://localhost:8080/",
          "height": 34
        },
        "outputId": "de2424e3-d327-41b8-9014-1f8166763c63"
      },
      "source": [
        "#Write a Python program that prints all the numbers from 0 to 6 except 3 and 6.\n",
        "\n",
        "for x in range(6):\n",
        "    if (x == 3 or x==6):\n",
        "        continue\n",
        "    print(x,end=' ')"
      ],
      "execution_count": 12,
      "outputs": [
        {
          "output_type": "stream",
          "text": [
            "0 1 2 4 5 "
          ],
          "name": "stdout"
        }
      ]
    },
    {
      "cell_type": "code",
      "metadata": {
        "id": "OTS2txg_krmI",
        "colab_type": "code",
        "colab": {
          "base_uri": "https://localhost:8080/",
          "height": 51
        },
        "outputId": "821121c1-6301-4ee7-ace6-29ce8cce42e2"
      },
      "source": [
        "\n",
        "#Write a python function to check whether the given number is prime or not\n",
        "\n",
        "num = int(input(\"enter a number: \"))\n",
        "for i in range(2, num):\n",
        "    if num % i  == 0:\n",
        "        print(\"not prime number\")\n",
        "        break\n",
        "else:\n",
        "    print(\"prime number\")"
      ],
      "execution_count": 17,
      "outputs": [
        {
          "output_type": "stream",
          "text": [
            "enter a number: 5\n",
            "prime number\n"
          ],
          "name": "stdout"
        }
      ]
    },
    {
      "cell_type": "code",
      "metadata": {
        "id": "79Qc_srokoCv",
        "colab_type": "code",
        "colab": {
          "base_uri": "https://localhost:8080/",
          "height": 51
        },
        "outputId": "2f29cfec-5ace-4ed5-b574-a8fe2a23d550"
      },
      "source": [
        "\n",
        "#Write a python function to check whether the given number is Adam number or not\n",
        "\n",
        "n =input()\n",
        "rev=n[::-1]\n",
        "nsquare=int(n)**2\n",
        "revsquare=int(rev )**2\n",
        "if int(nsquare )==int(str(revsquare)[::-1]):\n",
        "   print(\" is a adam number\")\n",
        "else:\n",
        "   print(\" is not a adam number\")"
      ],
      "execution_count": 21,
      "outputs": [
        {
          "output_type": "stream",
          "text": [
            "12\n",
            " is a adam number\n"
          ],
          "name": "stdout"
        }
      ]
    },
    {
      "cell_type": "code",
      "metadata": {
        "id": "ZQN8INKGla2l",
        "colab_type": "code",
        "colab": {}
      },
      "source": [
        ""
      ],
      "execution_count": 0,
      "outputs": []
    }
  ]
}